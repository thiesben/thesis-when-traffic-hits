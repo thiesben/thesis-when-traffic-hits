{
 "cells": [
  {
   "cell_type": "markdown",
   "metadata": {},
   "source": [
    "## Mapping Waypoints onto the berlin street network\n",
    "This notebook map's the waypoints in the data onto the chosen berlin street network. Here, we take the Berlin GHS as the relevant shape. \n",
    "The notebook maps all waypoints within the Berlin GHS onto the nearest edge, adds the nearest edge to the data frame, as well as the distance to the nearest edge. Waypoints outside the GHS are dropped."
   ]
  },
  {
   "cell_type": "code",
   "execution_count": 10,
   "metadata": {
    "collapsed": true
   },
   "outputs": [],
   "source": [
    "# Imports, options\n",
    "import geopandas as gpd\n",
    "import multiprocessing as mp\n",
    "import numpy as np\n",
    "import os\n",
    "import osmnx as ox\n",
    "import pandas as pd\n",
    "import time\n",
    "\n",
    "from geopandas.tools import sjoin\n",
    "from config import rpath\n",
    "os.chdir(rpath)\n",
    "\n",
    "gpd.options.use_pygeos = True"
   ]
  },
  {
   "cell_type": "code",
   "execution_count": 16,
   "metadata": {
    "collapsed": true
   },
   "outputs": [],
   "source": [
    "# Get Waypoint Files\n",
    "path = \"data/Berlin_2017/data/waypoints\"\n",
    "files = []\n",
    "for file in os.listdir(path):\n",
    "    if file.endswith(\"edges.csv\") or file.endswith(\"small.csv\") or file[:-4] + \"-with-edges.csv\" in os.listdir(path):\n",
    "        continue\n",
    "    files.append(os.path.join(path,file))\n",
    "files.sort()\n",
    "colnames = ['TripID','WaypointSequence','CaptureDate','lat','lon','SegmentID', \n",
    "            'ZoneName','Frc','DeviceID','RawSpeed','RawSpeedMetric']\n",
    "keepcols = ['TripID','WaypointSequence','CaptureDate','lat','lon','DeviceID','RawSpeed']"
   ]
  },
  {
   "cell_type": "code",
   "execution_count": 7,
   "metadata": {
    "collapsed": true
   },
   "outputs": [],
   "source": [
    "# Get OSMNX network and Berlin GHS shape\n",
    "G = ox.io.load_graphml(\"data/graphs/berlin-2851.graphml\")\n",
    "G = ox.projection.project_graph(G, 25833)\n",
    "berlin_uc = gpd.read_file(\"data/geodata/GHS/GHS_STAT_UCDB2015MT_GLOBE_R2019A_V1_2.gpkg\")\n",
    "berlin_uc = berlin_uc[berlin_uc.UC_NM_MN==\"Berlin\"]\n",
    "berlin_uc = berlin_uc[[\"UC_NM_MN\", \"geometry\"]]\n",
    "berlin_uc = berlin_uc.to_crs(25833)"
   ]
  },
  {
   "cell_type": "code",
   "execution_count": 8,
   "metadata": {
    "collapsed": true
   },
   "outputs": [],
   "source": [
    "# Define function to read file and map waypoints onto the network\n",
    "def read_and_map_wpts(file, verbose=False):\n",
    "    ''' Reads a waypoint file, projects it to UTM 33N, filters out data outside of the Berlin GHS, \n",
    "        gets the nearest edge in the Berlin network and the distance to this edge, and saves the file.\n",
    "    '''\n",
    "    \n",
    "    if verbose:\n",
    "        print(\"Reading \" + file)\n",
    "        t1 = time.time()\n",
    "    gdf = pd.read_csv(file, names=colnames)[keepcols] # Read file\n",
    "    \n",
    "    if verbose:\n",
    "        print(\"Converting \" + file)\n",
    "        t2 = time.time()\n",
    "    gdf = gpd.GeoDataFrame(gdf, geometry=gpd.points_from_xy(gdf.lon, gdf.lat)) # convert to GeoDataFrame\n",
    "    \n",
    "    if verbose:\n",
    "        print(\"Setting crs for \" + file)\n",
    "        t3 = time.time()\n",
    "    gdf = gdf.set_crs(4326).to_crs(25833) # Set correct CRS and convert to UTM 33N\n",
    "    \n",
    "    if verbose:\n",
    "        print(\"Joining \" + file + \" with Berlin.\")\n",
    "        t4 = time.time()\n",
    "    gdf = sjoin(gdf, berlin_uc, how=\"left\") # Intersect with Berlin GHS area \n",
    "    gdf = gdf.dropna(subset=[\"UC_NM_MN\"]) # Keep only intersecting entries\n",
    "    gdf[\"x\"] = gdf.geometry.x # Get coordinates as column\n",
    "    gdf[\"y\"] = gdf.geometry.y\n",
    "    \n",
    "    # Get nearest edges\n",
    "    if verbose:\n",
    "        print(\"Getting nearest edges of \" + file)\n",
    "        t5 = time.time()\n",
    "    edges = ox.distance.nearest_edges(G, gdf.x, gdf.y, return_dist=True, interpolate=50)\n",
    "    \n",
    "    # Add them to the gdf including distance to nearest edge\n",
    "    gdf[\"edge_1\"] = [e[0] for e in edges[0]]\n",
    "    gdf[\"edge_2\"] = [e[1] for e in edges[0]]\n",
    "    gdf[\"edge_dist\"] = [d for d in edges[1]]\n",
    "    \n",
    "    # Save as csv\n",
    "    outfile = file[:-4] + \"-with-edges.csv\"\n",
    "    if verbose:\n",
    "        print(\"Saving csv for \" + file)\n",
    "        t6 = time.time()\n",
    "    gdf = pd.DataFrame(gdf.drop(columns='geometry')).to_csv(outfile)\n",
    "    if verbose:\n",
    "        t7 = time.time()\n",
    "        print(\"File \" + outfile + \" written!\")\n",
    "        return [t1,t2,t3,t4,t5,t6,t7] # Return times if verbose = True\n",
    "    return None"
   ]
  },
  {
   "cell_type": "code",
   "execution_count": null,
   "metadata": {
    "collapsed": true
   },
   "outputs": [],
   "source": [
    "# Execute above function with 5 cores\n",
    "pool = mp.Pool(processes=5)\n",
    "df_list = pool.map(read_and_map_wpts, files)\n",
    "pool.close()"
   ]
  }
 ],
 "metadata": {
  "kernelspec": {
   "display_name": "Python [conda env:ma2]",
   "language": "python",
   "name": "conda-env-ma2-py"
  },
  "language_info": {
   "codemirror_mode": {
    "name": "ipython",
    "version": 3
   },
   "file_extension": ".py",
   "mimetype": "text/x-python",
   "name": "python",
   "nbconvert_exporter": "python",
   "pygments_lexer": "ipython3",
   "version": "3.8.10"
  }
 },
 "nbformat": 4,
 "nbformat_minor": 2
}
