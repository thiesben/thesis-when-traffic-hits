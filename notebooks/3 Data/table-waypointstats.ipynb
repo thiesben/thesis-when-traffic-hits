{
 "cells": [
  {
   "cell_type": "code",
   "execution_count": 1,
   "metadata": {
    "collapsed": true
   },
   "outputs": [],
   "source": [
    "# Imports, options\n",
    "import geopandas as gpd\n",
    "import multiprocessing as mp\n",
    "import numpy as np\n",
    "import os\n",
    "import osmnx as ox\n",
    "import pandas as pd\n",
    "import time\n",
    "\n",
    "from geopandas.tools import sjoin\n",
    "\n",
    "gpd.options.use_pygeos = True\n",
    "\n",
    "from config import rpath\n",
    "os.chdir(rpath)"
   ]
  },
  {
   "cell_type": "code",
   "execution_count": 2,
   "metadata": {
    "collapsed": true
   },
   "outputs": [],
   "source": [
    "# Get Waypoint Files\n",
    "path = \"data/Berlin_2017/data/waypoints\"\n",
    "files = []\n",
    "for file in os.listdir(path):\n",
    "    if file.endswith(\"edges.csv\") or file.endswith(\"small.csv\"):\n",
    "        continue\n",
    "    else:\n",
    "        files.append(os.path.join(path,file))\n",
    "files.sort()\n",
    "colnames = ['TripID','WaypointSequence','CaptureDate','lat','lon','SegmentID', \n",
    "            'ZoneName','Frc','DeviceID','RawSpeed','RawSpeedMetric']\n",
    "keepcols = ['TripID','WaypointSequence','CaptureDate','lat','lon']"
   ]
  },
  {
   "cell_type": "code",
   "execution_count": 2,
   "metadata": {
    "collapsed": true
   },
   "outputs": [],
   "source": [
    "# Get shapefiles\n",
    "berlin_uc = gpd.read_file(\"data/geodata/GHS/GHS_STAT_UCDB2015MT_GLOBE_R2019A_V1_2.gpkg\")\n",
    "berlin_uc = berlin_uc[berlin_uc.UC_NM_MN==\"Berlin\"]\n",
    "berlin_uc = berlin_uc[[\"UC_NM_MN\", \"geometry\"]].rename(columns={\"UC_NM_MN\":\"area\"})\n",
    "berlin_uc = berlin_uc.to_crs(4326)\n",
    "brandenburg = gpd.read_file(\"data/geodata/germany_border/Germany_places.shp\").to_crs(4326)[[\"GEN\",\"geometry\"]]\n",
    "berlin_adm = brandenburg[brandenburg.GEN==\"Berlin\"].rename(columns={\"GEN\": \"area\"})\n",
    "brandenburg = brandenburg[brandenburg.GEN==\"Brandenburg\"].rename(columns={\"GEN\":\"area\"})"
   ]
  },
  {
   "cell_type": "code",
   "execution_count": 4,
   "metadata": {},
   "outputs": [
    {
     "data": {
      "image/png": "[encoded data removed]",
      "text/plain": [
       "<Figure size 432x288 with 1 Axes>"
      ]
     },
     "metadata": {
      "needs_background": "light"
     },
     "output_type": "display_data"
    }
   ],
   "source": [
    "import matplotlib.pyplot as plt\n",
    "fig, ax = plt.subplots(1,1)\n",
    "berlin_uc.plot(ax=ax, color=\"lightskyblue\")\n",
    "berlin_adm.plot(alpha=1, edgecolor=\"black\", facecolor=\"None\", ax=ax)\n",
    "brandenburg.plot(alpha=1, edgecolor=\"black\", facecolor=\"None\", ax=ax)\n",
    "plt.show()"
   ]
  },
  {
   "cell_type": "code",
   "execution_count": 5,
   "metadata": {
    "collapsed": true
   },
   "outputs": [],
   "source": [
    "def get_n_waypoints(file, shape=brandenburg):\n",
    "    '''Reads waypoint file and returns n_waypoints in shape.\n",
    "    Shape must have 'area' column.'''\n",
    "\n",
    "    gdf = pd.read_csv(file, names=colnames)[keepcols]\n",
    "    gdf = gpd.GeoDataFrame(gdf, geometry=gpd.points_from_xy(gdf.lon,gdf.lat)).set_crs(4326)\n",
    "        \n",
    "    gdf = sjoin(gdf, shape, how=\"left\", op=\"intersects\") # Intersect with shape\n",
    "    gdf = gdf.dropna(subset=[\"area\"])\n",
    "    \n",
    "    npoints = len(gdf)\n",
    "    print(\"File Processed\")\n",
    "    return(npoints)"
   ]
  },
  {
   "cell_type": "code",
   "execution_count": null,
   "metadata": {},
   "outputs": [
    {
     "name": "stdout",
     "output_type": "stream",
     "text": [
      "File Processed\n",
      "File Processed\n",
      "File Processed\n",
      "File Processed\n",
      "File Processed\n",
      "File Processed\n",
      "File Processed\n",
      "File Processed\n",
      "File Processed\n",
      "File Processed\n",
      "File Processed\n",
      "File Processed\n",
      "File Processed\n",
      "File Processed\n",
      "File Processed\n",
      "File Processed\n",
      "File Processed\n",
      "File Processed\n"
     ]
    }
   ],
   "source": [
    "# Execute above function with 5 cores\n",
    "pool = mp.Pool(processes=6)\n",
    "npoints_bb = pool.map(get_n_waypoints, files)\n",
    "pool.close()"
   ]
  },
  {
   "cell_type": "code",
   "execution_count": 22,
   "metadata": {},
   "outputs": [
    {
     "data": {
      "text/plain": [
       "894920983"
      ]
     },
     "execution_count": 22,
     "metadata": {},
     "output_type": "execute_result"
    }
   ],
   "source": [
    "sum(npoints_adm)"
   ]
  },
  {
   "cell_type": "code",
   "execution_count": 13,
   "metadata": {},
   "outputs": [
    {
     "data": {
      "text/plain": [
       "850587925"
      ]
     },
     "execution_count": 13,
     "metadata": {},
     "output_type": "execute_result"
    }
   ],
   "source": [
    "sum(npoints_uc)"
   ]
  },
  {
   "cell_type": "code",
   "execution_count": 13,
   "metadata": {},
   "outputs": [
    {
     "data": {
      "text/plain": [
       "1357551853"
      ]
     },
     "execution_count": 13,
     "metadata": {},
     "output_type": "execute_result"
    }
   ],
   "source": [
    "sum(npoints_bb) + 894920983"
   ]
  },
  {
   "cell_type": "markdown",
   "metadata": {
    "collapsed": true
   },
   "source": [
    "# Trip statistics"
   ]
  },
  {
   "cell_type": "code",
   "execution_count": 3,
   "metadata": {
    "collapsed": true
   },
   "outputs": [],
   "source": [
    "# Get Waypoint Files\n",
    "path = \"data/Berlin_2017/data/trips\"\n",
    "files = [os.path.join(path, x) for x in os.listdir(path)]\n",
    "files.sort()\n",
    "colnames = ['TripId', 'DeviceId', 'ProviderId', 'Mode', 'StartDate', 'StartWDay',\n",
    "           'EndDate', 'EndWDay', 'StartLocLat', 'StartLocLon', 'EndLocLat',\n",
    "           'EndLocLon', 'IsStartHome', 'IsEndHome', 'GeospatialType',\n",
    "           'ProviderType', 'ProviderDrivingProfile', 'VehicleWeightClass',\n",
    "           'ProbeSourceType', 'OriginZoneName', 'DestinationZoneName',\n",
    "           'MultipleZones', 'MultipleCorridors', 'EndpointType',\n",
    "           'TripMeanSpeedKph', 'TripMaxSpeedKph', 'TripDistanceMeters',\n",
    "           'MovementType', 'OriginCbg', 'DestCbg']\n",
    "keepcols = ['TripId', 'StartLocLat', 'StartLocLon', 'EndLocLat', 'EndLocLon', \n",
    "            'TripMeanSpeedKph', 'TripMaxSpeedKph', 'TripDistanceMeters', \"StartDate\", \"EndDate\"]"
   ]
  },
  {
   "cell_type": "code",
   "execution_count": 4,
   "metadata": {
    "collapsed": true
   },
   "outputs": [],
   "source": [
    "def get_n_trips(file):\n",
    "    '''Reads trip file and returns n_waypoints in shape.\n",
    "    Shape must have 'area' column.'''\n",
    "    \n",
    "    print(\"Reading file\")\n",
    "    gdf = pd.read_csv(file, names=colnames)[keepcols]\n",
    "    gdf_start = gpd.GeoDataFrame(gdf[['TripId','StartLocLat', 'StartLocLon']],\n",
    "                                 geometry=gpd.points_from_xy(gdf.StartLocLon,gdf.StartLocLat)\n",
    "                                ).set_crs(4326)\n",
    "    print(\"Read and converted file (starts)\")\n",
    "    \n",
    "    tripids_bln_uc_start = sjoin(gdf_start, berlin_uc, how=\"inner\", op=\"intersects\").TripId # Intersect with shape\n",
    "    print(\"UC intersects done\")\n",
    "    tripids_bln_adm_start = sjoin(gdf_start, berlin_adm, how=\"inner\", op=\"intersects\").TripId \n",
    "    print(\"adm intersects done\")\n",
    "    tripids_bb_start = sjoin(gdf_start[~gdf_start.TripId.isin(tripids_bln_adm_start)],\n",
    "                             brandenburg, how=\"inner\", op=\"intersects\").TripId\n",
    "    print(\"bb intersects done\")\n",
    "    print(\"Got all start intersections.\")\n",
    "    del gdf_start\n",
    "    gdf_end = gpd.GeoDataFrame(gdf[['TripId','EndLocLat', 'EndLocLon']],\n",
    "                             geometry=gpd.points_from_xy(gdf.EndLocLon,gdf.EndLocLat)\n",
    "                            ).set_crs(4326)\n",
    "    print(\"Starting to count ends.\")\n",
    "    \n",
    "    tripids_bln_uc_end = sjoin(gdf_end[~gdf_end.TripId.isin(tripids_bln_uc_start)], \n",
    "                               berlin_uc, how=\"inner\", op=\"intersects\").TripId \n",
    "    tripids_bln_adm_end = sjoin(gdf_end[~gdf_end.TripId.isin(tripids_bln_adm_start)], \n",
    "                                berlin_adm, how=\"inner\", op=\"intersects\").TripId\n",
    "    tripids_bb_end = sjoin(gdf_end[~((gdf_end.TripId.isin(tripids_bln_adm_start)) | \n",
    "                                     (gdf_end.TripId.isin(tripids_bln_adm_end)))], \n",
    "                           brandenburg, how=\"inner\", op=\"intersects\").TripId\n",
    "    del gdf_end\n",
    "    \n",
    "    tripids_bln_uc = np.unique(tripids_bln_uc_start.tolist() + tripids_bln_uc_end.tolist())\n",
    "    tripids_bln_adm = np.unique(tripids_bln_adm_start.tolist() + tripids_bln_adm_end.tolist())\n",
    "    tripids_bb = np.unique(tripids_bb_start.tolist() + tripids_bb_end.tolist() + tripids_bln_adm.tolist())\n",
    "    \n",
    "  \n",
    "    avgspeed_bln_uc = gdf[gdf.TripId.isin(tripids_bln_uc)].dropna(subset=[\"TripMeanSpeedKph\"]).TripMeanSpeedKph.mean()\n",
    "    avgspeed_bln_adm = gdf[gdf.TripId.isin(tripids_bln_adm)].dropna(subset=[\"TripMeanSpeedKph\"]).TripMeanSpeedKph.mean()\n",
    "    avgspeed_bb = gdf[gdf.TripId.isin(tripids_bb)].dropna(subset=[\"TripMeanSpeedKph\"]).TripMeanSpeedKph.mean()\n",
    "    \n",
    "    maxspeed_bln_uc = gdf[gdf.TripId.isin(tripids_bln_uc)].dropna(subset=[\"TripMaxSpeedKph\"]).TripMaxSpeedKph.max()\n",
    "    maxspeed_bln_adm = gdf[gdf.TripId.isin(tripids_bln_adm)].dropna(subset=[\"TripMaxSpeedKph\"]).TripMaxSpeedKph.max()\n",
    "    maxspeed_bb = gdf[gdf.TripId.isin(tripids_bb)].dropna(subset=[\"TripMaxSpeedKph\"]).TripMaxSpeedKph.max()\n",
    "    \n",
    "    avgdist_bln_uc = gdf[gdf.TripId.isin(tripids_bln_uc)].dropna(subset=[\"TripDistanceMeters\"]).TripDistanceMeters.mean()/1000\n",
    "    avgdist_bln_adm = gdf[gdf.TripId.isin(tripids_bln_adm)].dropna(subset=[\"TripDistanceMeters\"]).TripDistanceMeters.mean()/1000\n",
    "    avgdist_bb = gdf[gdf.TripId.isin(tripids_bb)].dropna(subset=[\"TripDistanceMeters\"]).TripDistanceMeters.mean()/1000\n",
    "    \n",
    "    maxdist_bln_uc = gdf[gdf.TripId.isin(tripids_bln_uc)].dropna(subset=[\"TripDistanceMeters\"]).TripDistanceMeters.max()/1000\n",
    "    maxdist_bln_adm = gdf[gdf.TripId.isin(tripids_bln_adm)].dropna(subset=[\"TripDistanceMeters\"]).TripDistanceMeters.max()/1000\n",
    "    maxdist_bb = gdf[gdf.TripId.isin(tripids_bb)].dropna(subset=[\"TripDistanceMeters\"]).TripDistanceMeters.max()/1000\n",
    "    \n",
    "    # Add more relevant variables\n",
    "    gdf[\"StartDate\"] = pd.to_datetime(gdf[\"StartDate\"], format='%Y-%m-%dT%H:%M:%S')\n",
    "    gdf[\"EndDate\"] = pd.to_datetime(gdf[\"EndDate\"], format='%Y-%m-%dT%H:%M:%S')\n",
    "    gdf[\"duration_in_minutes\"] = (gdf.EndDate-gdf.StartDate).apply(lambda x: x.total_seconds()/60)\n",
    "    \n",
    "    meanduration_bln_uc = gdf[gdf.TripId.isin(tripids_bln_uc)].dropna(subset=[\"duration_in_minutes\"]).duration_in_minutes.mean()\n",
    "    meanduration_bln_adm = gdf[gdf.TripId.isin(tripids_bln_adm)].dropna(subset=[\"duration_in_minutes\"]).duration_in_minutes.mean()\n",
    "    meanduration_bb = gdf[gdf.TripId.isin(tripids_bb)].dropna(subset=[\"duration_in_minutes\"]).duration_in_minutes.mean()\n",
    "    \n",
    "    maxduration_bln_uc = gdf[gdf.TripId.isin(tripids_bln_uc)].dropna(subset=[\"duration_in_minutes\"]).duration_in_minutes.max()\n",
    "    maxduration_bln_adm = gdf[gdf.TripId.isin(tripids_bln_adm)].dropna(subset=[\"duration_in_minutes\"]).duration_in_minutes.max()\n",
    "    maxduration_bb = gdf[gdf.TripId.isin(tripids_bb)].dropna(subset=[\"duration_in_minutes\"]).duration_in_minutes.max()\n",
    "    \n",
    "    mindate_bln_uc = gdf[gdf.TripId.isin(tripids_bln_uc)].dropna(subset=[\"StartDate\"]).StartDate.min()\n",
    "    mindate_bln_adm = gdf[gdf.TripId.isin(tripids_bln_adm)].dropna(subset=[\"StartDate\"]).StartDate.min()\n",
    "    mindate_bb = gdf[gdf.TripId.isin(tripids_bb)].dropna(subset=[\"StartDate\"]).StartDate.min()\n",
    "    \n",
    "    maxdate_bln_uc = gdf[gdf.TripId.isin(tripids_bln_uc)].dropna(subset=[\"EndDate\"]).EndDate.max()\n",
    "    maxdate_bln_adm = gdf[gdf.TripId.isin(tripids_bln_adm)].dropna(subset=[\"EndDate\"]).EndDate.max()\n",
    "    maxdate_bb = gdf[gdf.TripId.isin(tripids_bb)].dropna(subset=[\"EndDate\"]).EndDate.max()\n",
    "    \n",
    "    print(\"Done.\")\n",
    "    \n",
    "    intersections_uc = len(tripids_bln_uc)\n",
    "    intersections_adm = len(tripids_bln_adm)\n",
    "    intersections_bb = len(tripids_bb)\n",
    "    \n",
    "    ns = (intersections_uc, intersections_adm, intersections_bb)\n",
    "    avgspeeds = (avgspeed_bln_uc, avgspeed_bln_adm, avgspeed_bb)\n",
    "    maxspeeds = (maxspeed_bln_uc, maxspeed_bln_adm, maxspeed_bb)\n",
    "    avgdists = (avgdist_bln_uc, avgdist_bln_adm, avgdist_bb)\n",
    "    maxdists = (maxdist_bln_uc, maxdist_bln_adm, maxdist_bb)\n",
    "    avgdurations = (meanduration_bln_uc, meanduration_bln_adm, meanduration_bb)\n",
    "    maxdurations = (maxduration_bln_uc, maxduration_bln_adm, maxduration_bb)\n",
    "    mindates = (mindate_bln_uc, mindate_bln_adm, mindate_bb)\n",
    "    maxdates = (maxdate_bln_uc, maxdate_bln_adm, maxdate_bb)\n",
    "    \n",
    "    print(\"File Processed\")\n",
    "    return([ns, avgspeeds, maxspeeds, avgdists, maxdists, avgdurations, maxdurations, mindates, maxdates])"
   ]
  },
  {
   "cell_type": "code",
   "execution_count": 5,
   "metadata": {},
   "outputs": [
    {
     "name": "stdout",
     "output_type": "stream",
     "text": [
      "Reading fileReading fileReading fileReading fileReading fileReading file\n",
      "\n",
      "Reading file\n",
      "\n",
      "\n",
      "\n",
      "Reading file\n",
      "\n",
      "Read and converted file (starts)\n",
      "UC intersects done\n",
      "Read and converted file (starts)\n",
      "Read and converted file (starts)\n",
      "Read and converted file (starts)\n",
      "Read and converted file (starts)\n",
      "Read and converted file (starts)\n",
      "Read and converted file (starts)\n",
      "Read and converted file (starts)\n",
      "UC intersects done\n",
      "UC intersects done\n",
      "UC intersects done\n",
      "UC intersects done\n",
      "UC intersects done\n",
      "UC intersects done\n",
      "UC intersects done\n",
      "adm intersects done\n",
      "adm intersects done\n",
      "adm intersects done\n",
      "adm intersects done\n",
      "adm intersects done\n",
      "adm intersects done\n",
      "adm intersects done\n",
      "adm intersects done\n",
      "bb intersects done\n",
      "Got all start intersections.\n",
      "Starting to count ends.\n",
      "bb intersects done\n",
      "Got all start intersections.\n",
      "bb intersects done\n",
      "Got all start intersections.\n",
      "bb intersects done\n",
      "Got all start intersections.\n",
      "bb intersects done\n",
      "Got all start intersections.\n",
      "bb intersects done\n",
      "Got all start intersections.\n",
      "bb intersects done\n",
      "Got all start intersections.\n",
      "bb intersects done\n",
      "Got all start intersections.\n",
      "Starting to count ends.\n",
      "Starting to count ends.\n",
      "Starting to count ends.\n",
      "Starting to count ends.\n",
      "Starting to count ends.\n",
      "Starting to count ends.\n",
      "Starting to count ends.\n",
      "Done.\n",
      "File Processed\n",
      "Reading file\n",
      "Read and converted file (starts)\n",
      "UC intersects done\n",
      "adm intersects done\n",
      "Done.\n",
      "File Processed\n",
      "Reading file\n",
      "Done.\n",
      "File Processed\n",
      "Reading file\n",
      "Done.\n",
      "File Processed\n",
      "Reading file\n",
      "Done.\n",
      "File Processed\n",
      "Reading file\n",
      "Done.\n",
      "File Processed\n",
      "Reading file\n",
      "Done.\n",
      "File Processed\n",
      "Done.\n",
      "File Processed\n",
      "Read and converted file (starts)\n",
      "Read and converted file (starts)\n",
      "Read and converted file (starts)\n",
      "Read and converted file (starts)\n",
      "Read and converted file (starts)\n",
      "UC intersects done\n",
      "UC intersects done\n",
      "UC intersects done\n",
      "UC intersects done\n",
      "bb intersects done\n",
      "Got all start intersections.\n",
      "UC intersects done\n",
      "Starting to count ends.\n",
      "adm intersects done\n",
      "adm intersects done\n",
      "adm intersects done\n",
      "adm intersects done\n",
      "adm intersects done\n",
      "bb intersects done\n",
      "Got all start intersections.\n",
      "Starting to count ends.\n",
      "bb intersects done\n",
      "Got all start intersections.\n",
      "bb intersects done\n",
      "Got all start intersections.\n",
      "bb intersects done\n",
      "Got all start intersections.\n",
      "Starting to count ends.\n",
      "Starting to count ends.\n",
      "Starting to count ends.\n",
      "bb intersects done\n",
      "Got all start intersections.\n",
      "Starting to count ends.\n",
      "Done.\n",
      "File Processed\n",
      "Done.\n",
      "File Processed\n",
      "Done.\n",
      "File Processed\n",
      "Done.\n",
      "File Processed\n",
      "Done.\n",
      "File Processed\n",
      "Done.\n",
      "File Processed\n"
     ]
    }
   ],
   "source": [
    "# Execute above function with 5 cores\n",
    "pool = mp.Pool(processes=8)\n",
    "ntrips_all = pool.map(get_n_trips, files)\n",
    "pool.close()"
   ]
  },
  {
   "cell_type": "code",
   "execution_count": 9,
   "metadata": {
    "collapsed": true
   },
   "outputs": [],
   "source": [
    "ns = [0,0,0]\n",
    "avgspeeds = [0,0,0]\n",
    "maxspeeds = [0,0,0]\n",
    "avgdists = [0,0,0]\n",
    "maxdists = [0,0,0]\n",
    "avgdurations = [0,0,0]\n",
    "maxdurations = [0,0,0]\n",
    "mindates = [pd.Timestamp(\"2019-1-1\", tz=\"UTC\"),pd.Timestamp(\"2019-1-1\", tz=\"UTC\"),pd.Timestamp(\"2019-1-1\", tz=\"UTC\")]\n",
    "maxdates = [pd.Timestamp(\"1970-1-1\", tz=\"UTC\"),pd.Timestamp(\"1970-1-1\", tz=\"UTC\"),pd.Timestamp(\"1970-1-1\", tz=\"UTC\")]\n",
    "\n",
    "for i, l in enumerate(ntrips_all):\n",
    "    ns = [ns[0]+l[0][0], ns[1] + l[0][1], ns[2] + l[0][2]]\n",
    "    avgspeeds = [avgspeeds[0] + l[0][0]*l[1][0], avgspeeds[1] + l[0][1]*l[1][1], avgspeeds[2] + l[0][2]*l[1][2]]\n",
    "    maxspeeds = [max(maxspeeds[0], l[2][0]), max(maxspeeds[1], l[2][1]), max(maxspeeds[2], l[2][2])]\n",
    "    avgdists = [avgdists[0] + l[0][0]*l[3][0], avgdists[1] + l[0][1]*l[3][1], avgdists[2] + l[0][2]*l[3][2]]\n",
    "    maxdists = [max(maxdists[0], l[4][0]), max(maxdists[1], l[4][1]), max(maxdists[2], l[4][2])]\n",
    "    avgdurations = [avgdurations[0] + l[0][0]*l[5][0], avgdurations[1] + l[0][1]*l[5][1], avgdurations[2] + l[0][2]*l[5][2]]\n",
    "    maxdurations = [max(maxdurations[0], l[6][0]), max(maxdurations[1], l[6][1]), max(maxdurations[2], l[6][2])]\n",
    "    mindates = [min(mindates[0], l[7][0]), min(mindates[1], l[7][1]), min(mindates[2], l[7][2])]\n",
    "    maxdates = [max(maxdates[0], l[8][0]), max(maxdates[1], l[8][1]), max(maxdates[2], l[8][2])]   \n",
    "\n",
    "avgspeeds = [avgspeeds[0]/ns[0], avgspeeds[1]/ns[1], avgspeeds[2]/ns[2]]\n",
    "avgdists = [avgdists[0]/ns[0], avgdists[1]/ns[1], avgdists[2]/ns[2]]\n",
    "avgdurations = [avgdurations[0]/ns[0], avgdurations[1]/ns[1], avgdurations[2]/ns[2]]"
   ]
  },
  {
   "cell_type": "code",
   "execution_count": 10,
   "metadata": {},
   "outputs": [
    {
     "data": {
      "text/plain": [
       "[[32106737, 32606521, 34145757],\n",
       " [32.44456224159447, 32.73449278704758, 34.21781847454685],\n",
       " [199.99998658906696, 199.99998658906696, 199.99998658906696],\n",
       " [21.92601582981266, 22.19639905884416, 25.430241027110142],\n",
       " [1998.9547101204148, 1998.9547101204148, 1998.9547101204148],\n",
       " [26.97020489706984, 27.001249370168416, 28.85577733894239],\n",
       " [1209.1166666666666, 1209.1166666666666, 1209.1166666666666],\n",
       " [Timestamp('2017-01-01 00:00:00+0000', tz='UTC'),\n",
       "  Timestamp('2017-01-01 00:00:00+0000', tz='UTC'),\n",
       "  Timestamp('2017-01-01 00:00:00+0000', tz='UTC')],\n",
       " [Timestamp('2018-01-01 08:17:40+0000', tz='UTC'),\n",
       "  Timestamp('2018-01-01 08:17:40+0000', tz='UTC'),\n",
       "  Timestamp('2018-01-01 08:17:40+0000', tz='UTC')]]"
      ]
     },
     "execution_count": 10,
     "metadata": {},
     "output_type": "execute_result"
    }
   ],
   "source": [
    "[ns, avgspeeds, maxspeeds, avgdists, maxdists, avgdurations, maxdurations, mindates, maxdates]"
   ]
  },
  {
   "cell_type": "code",
   "execution_count": null,
   "metadata": {
    "collapsed": true
   },
   "outputs": [],
   "source": []
  }
 ],
 "metadata": {
  "kernelspec": {
   "display_name": "Python [conda env:ma2]",
   "language": "python",
   "name": "conda-env-ma2-py"
  },
  "language_info": {
   "codemirror_mode": {
    "name": "ipython",
    "version": 3
   },
   "file_extension": ".py",
   "mimetype": "text/x-python",
   "name": "python",
   "nbconvert_exporter": "python",
   "pygments_lexer": "ipython3",
   "version": "3.8.10"
  }
 },
 "nbformat": 4,
 "nbformat_minor": 2
}
