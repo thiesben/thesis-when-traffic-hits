{
 "cells": [
  {
   "cell_type": "code",
   "execution_count": 36,
   "metadata": {
    "collapsed": true
   },
   "outputs": [],
   "source": [
    "import os\n",
    "import geopandas as gpd\n",
    "import pandas as pd\n",
    "\n",
    "from config import rpath\n",
    "os.chdir(rpath)"
   ]
  },
  {
   "cell_type": "code",
   "execution_count": 77,
   "metadata": {
    "collapsed": true
   },
   "outputs": [],
   "source": [
    "# Read incident data\n",
    "incid = pd.read_csv(\"data/Berlin_2017/incidence_21_08_13a.csv\", encoding=\"ISO-8859-1\", index_col=0)\n",
    "# incid = pd.read_csv(\"data/Berlin_2017/incidents_raw.csv\", encoding=\"ISO-8859-1\", error_bad_lines=False)"
   ]
  },
  {
   "cell_type": "code",
   "execution_count": 64,
   "metadata": {},
   "outputs": [
    {
     "data": {
      "text/plain": [
       "Index(['Incident.Id', 'severity', 'Road.Closure', 'Category.Ids',\n",
       "       'Description', 'Planned', 'Earliest.Start.Time.local.',\n",
       "       'Latest.End.Time.local.', 'Direction', 'Event.Text', 'Location.Type',\n",
       "       'lat', 'lon', 'Segment.Ids', 'Causes', 'Effects', 'Info', 'AlertCs',\n",
       "       'Schedule', 'road.closure', 'construction', 'incident', 'planned',\n",
       "       'point', 'direction', 'miles', 'bidirectional', 'frc1', 'frc2', 'frc3',\n",
       "       'frc4', 'frc5', 'reason1', 'reason2', 'reason3', 'reason4', 'reason5',\n",
       "       'reason6', 'reason9', 'reason11', 'reason12', 'reason13', 'reason17',\n",
       "       'reason18', 'reason19', 'reason20', 'reason21', 'reason22', 'reason23',\n",
       "       'reason26', 'reason27', 'reason32', 'highway', 'start', 'end',\n",
       "       'startdate', 'enddate', 'startbezirk', 'startbezkey'],\n",
       "      dtype='object')"
      ]
     },
     "execution_count": 64,
     "metadata": {},
     "output_type": "execute_result"
    }
   ],
   "source": [
    "incid.columns"
   ]
  },
  {
   "cell_type": "code",
   "execution_count": 78,
   "metadata": {
    "collapsed": true
   },
   "outputs": [
    {
     "name": "stdout",
     "output_type": "stream",
     "text": [
      "['Lane closed due to maintenance work on A11 Southbound between 15 L304 Wandlitzer Chaussee and 16 L200 Schwanebecker Chaussee.', 'Ice on A115 Northbound between 9 E51 and 8 L78. Expected. Drive with extreme caution.', 'Object in the road and debris on road on A10 Berliner Ring Clockwise between 7 L38 and 8 E30. Danger. Drive with extreme caution.', 'Vehicle driving on the wrong side of the road on A11 Both ways between 15 L304 Wandlitzer Chaussee and 16 L200 Schwanebecker Chaussee.', 'Stalled vehicle on A10 Berliner Ring Clockwise between 4 B5 B1 and 5. Danger. Drive with extreme caution.', 'Vehicle driving on the wrong side of the road on A113 Both ways between 7 B96a Am Seegraben and 8 SchÃ¶nefelder Allee.', 'Vehicle driving on the wrong side of the road on B1 Both ways between A100 and A103.', 'Lane blocked due to object in the road and debris on road on A10 Berliner Ring Anticlockwise between 4 B5 B1 and 3 L33 HÃ¶nower Chaussee. Danger. Clear a lane for emergency vehicles.', 'Vehicle driving on the wrong side of the road on B96 Southbound between L191 and A10 Berliner Ring. Drive with extreme caution.', 'Vehicle driving on the wrong side of the road on B101 Both ways between L40 and L795 Thyrower DorfstraÃ\\x9fe.', 'Entry ramp closed on A100 Eastbound at 4 A111. Due to sheer weight of traffic.', 'Lane closed due to recovery work on A11 Northbound at 16 L200 Schwanebecker Chaussee. Danger. Drive with extreme caution.', 'Exit ramp partially blocked on A10 Berliner Ring Anticlockwise at 9 Segelfliegerdamm. Police in attendance.', 'Lane closed due to maintenance work on A10 Berliner Ring Clockwise between 15 L795 and 16 A115. Drive with extreme caution.', 'Entry ramp closed on A100 Eastbound at 4 A111. Due to sheer weight of traffic.', 'Lane closed due to maintenance work on A100 Westbound between 6 Spandauer Damm and 4 A111. Oil on road.', 'Vehicle driving on the wrong side of the road on A113 Both ways between A100 and 1,26 A100.', 'Vehicle driving on the wrong side of the road on A11 Both ways between 17 A10 Berliner Ring and 16 L200 Schwanebecker Chaussee.', 'Stalled vehicle on A115 Avus Northbound at 2 HÃ¼ttenweg.', 'Vehicle driving on the wrong side of the road on A11 Southbound between 13 L31 and 14 B273. Drive with extreme caution.', 'Vehicle driving on the wrong side of the road on A100 Both ways between 26 A113 and 2 SeestraÃ\\x9fe.', 'Vehicle driving on the wrong side of the road on A10 Berliner Ring Clockwise between 33 B96 HauptstraÃ\\x9fe and 34 L21 Liebenwalder StraÃ\\x9fe. Drive with extreme caution.', 'Maintenance work on A111 Southbound in Stolpe-SÃ¼d. In the left lane.', 'Vehicle driving on the wrong side of the road on A113 Both ways at 8 SchÃ¶nefelder Allee.', 'Vehicle driving on the wrong side of the road on A113 Both ways between 1,26 A100 and 10,11 E55.', 'Entry ramp closed on A100 Eastbound at 4 A111. Due to sheer weight of traffic.', 'Vehicle driving on the wrong side of the road on A100 Both ways between 15 Detmolder StraÃ\\x9fe and 7 KnobelsdorffstraÃ\\x9fe.', 'Vehicle driving on the wrong side of the road on L40 NuthestraÃ\\x9fe Westbound at Neuendorfer StraÃ\\x9fe. Drive with extreme caution.', 'Vehicle driving on the wrong side of the road on A111 Both ways between 4 Hermsdorfer Damm and 8 Tunnel Flughafen Tegel.', 'Vehicle driving on the wrong side of the road on A10 Berliner Ring Both ways between 15 L795 and 16 A115.', 'Vehicle driving on the wrong side of the road on A100 Both ways at 22.', 'Stalled truck on A10 Berliner Ring Anticlockwise in Perwenitz. On the shoulder.', 'Lane closed due to stalled vehicle on A111 Southbound near 8 Tunnel Flughafen Tegel.', 'Police in attendance, in the right lane, drive with extreme caution and in the connecting roadway on A10 Berliner Ring Clockwise at 8 E30.', 'Lane closed due to recovery work on A111 Southbound at 1 A10 Berliner Ring. Danger.', 'Recovery work on A10 Berliner Ring Both ways at 31 E26. Drive with extreme caution.', 'Lane closed due to object in the road and debris on road on A100 Eastbound near 12 Auguste-Viktoria-StraÃ\\x9fe. Danger.', 'Roadway reduced from  lanes to one lane due to maintenance work on Landsberger Allee Eastbound between B158 MÃ¤rkische Allee and Allee der Kosmonauten.', 'Vehicle driving on the wrong side of the road on B96 Both ways between K6163 and A10 Berliner Ring.', 'Vehicle driving on the wrong side of the road on A11 Both ways between 16 L200 Schwanebecker Chaussee and 15 L304 Wandlitzer Chaussee.', 'Lane closed due to stalled vehicle on A100 Westbound between 26 A113 and 24 Buschkrugallee.', 'Vehicle driving on the wrong side of the road on B96 Lichtenrader Damm Both ways between A10 Berliner Ring and Im Domstift.', 'Vehicle driving on the wrong side of the road on B96a WaÃ\\x9fmannsdorfer Chaussee Both ways between Waltersdorfer Chaussee and L75 DorfstraÃ\\x9fe.', 'Vehicle driving on the wrong side of the road on B96 Both ways between B96a and A10 Berliner Ring.', 'Vehicle driving on the wrong side of the road on A10 Berliner Ring Both ways between 7 L38 and 8 E30.', 'Vehicle driving on the wrong side of the road on A114 Both ways between 4 B109 Pasewalker StraÃ\\x9fe and 3 Bucher StraÃ\\x9fe.', 'Lane closed on A100 Eastbound near 4 A111. Due to sheer weight of traffic.', 'Vehicle driving on the wrong side of the road on A10 Berliner Ring Anticlockwise between 1 A11 and 35 A114. Drive with extreme caution.', 'Vehicle driving on the wrong side of the road on A10 Berliner Ring Both ways between 35 A114 and 1 A11.', 'Vehicle driving on the wrong side of the road on A100 Both ways between 22 and 4 A111.', 'Vehicle driving on the wrong side of the road on A11 Both ways between 16 L200 Schwanebecker Chaussee and 15 L304 Wandlitzer Chaussee.', 'Object in the road, debris on road and stalled vehicle on A115 Southbound between 4 B1 Potsdamer Chaussee and 5 Stolper Weg. Danger. Drive with extreme caution.', 'Stalled vehicle on A24 Westbound between E55 Berliner Ring and 25 B273. Danger. Drive carefully.', 'Lane closed due to stalled truck on A10 Berliner Ring Clockwise between 10 B179 Berliner StraÃ\\x9fe and 11 E55. Danger. On the shoulder. Drive with extreme caution.', 'Stalled vehicle on A10 Berliner Ring Anticlockwise between 11 E55 and 10 B179 Berliner StraÃ\\x9fe. Danger. On the shoulder. Drive with extreme caution.', 'Vehicle driving on the wrong side of the road on A100 Both ways between 26 A113 and 13 Hohenzollerndamm.', 'Vehicle driving on the wrong side of the road on A115 Avus Both ways between 4 B1 Potsdamer Chaussee and 1 A100.', 'Recovery work on A111 Southbound between 2a K6517 and 2b L171. Danger. On the shoulder. Drive carefully.', 'Vehicle driving on the wrong side of the road on B5 Both ways between Potsdamer StraÃ\\x9fe and Ketziner StraÃ\\x9fe.', 'Lane closed due to recovery work on A12 Westbound between 3 L23 and 2 L39. Danger. Approach with care.', 'Road closed due to recovery work on L30 BahnhofstraÃ\\x9fe Eastbound between L21 HauptstraÃ\\x9fe and L305 BahnhofstraÃ\\x9fe. Danger. Local drivers are recommended to avoid the area.', 'Vehicle driving on the wrong side of the road on B101 Southbound between L40 and Parkallee. Drive with extreme caution.', 'Vehicle driving on the wrong side of the road on A115 Both ways between 5 Dreilindener Weg and A100.', 'Road closed on Tunnel Flughafen Tegel Westbound at A111. Due to sheer weight of traffic.', 'Lane closed due to recovery work on A11 Northbound between 14 B273 and 13 L31. Danger.', 'Vehicle driving on the wrong side of the road on A115 Both ways between 2 HÃ¼ttenweg and A100.', 'Vehicle driving on the wrong side of the road on A11 Both ways between 12 MarienwerderstraÃ\\x9fe and 13 L31.', 'Vehicle driving on the wrong side of the road on A113 Both ways between 3,10 A13 and 9 A117.', 'Vehicle driving on the wrong side of the road on A113 Both ways between 3,10 A13 and 1,26 A100.', 'Vehicle driving on the wrong side of the road on A10 Berliner Ring Anticlockwise between 34 L21 Liebenwalder StraÃ\\x9fe and 33 B96 HauptstraÃ\\x9fe. Drive with extreme caution.', 'Vehicle driving on the wrong side of the road on A113 Northbound between 9 A117 and 8 SchÃ¶nefelder Allee. Keep to the right.', 'Stalled vehicle on A10 Berliner Ring Clockwise between 8 E30 and 9 Segelfliegerdamm. Drive with extreme caution.', 'Vehicle driving on the wrong side of the road on A100 Both ways between 22 and 20 B96 Tempelhofer Damm.', 'One stalled vehicle on A10 Berliner Ring Clockwise between 15 L795 and 16 A115. Danger. On the shoulder. Drive carefully.', 'Vehicle driving on the wrong side of the road on A113 Northbound between 3,10 A13 and 9 A117. Drive with extreme caution.', 'Vehicle driving on the wrong side of the road on A113 Both ways between 6 Altglienicker Chaussee and 1,26 A100.', 'Vehicle driving on the wrong side of the road on A111 Both ways between 5 Holzhauser StraÃ\\x9fe and 3 Schulzendorfer StraÃ\\x9fe.', 'Vehicle driving on the wrong side of the road on A111 Both ways between A111 and 1 A10 Berliner Ring.', 'Vehicle driving on the wrong side of the road on A13 Both ways between 1 E55 and 3a L30 Schenkendorfer Chaussee.', 'Object in the road and debris on road on A10 Berliner Ring Anticlockwise between 34 L21 Liebenwalder StraÃ\\x9fe and 33 B96 HauptstraÃ\\x9fe. Danger.', 'Vehicle driving on the wrong side of the road on A2 Eastbound between 79 L88 and 81 A10 Berliner Ring. Drive with extreme caution.', 'Vehicle driving on the wrong side of the road on A10 Berliner Ring Both ways between 2 B158 and 1 A11.', 'Vehicle driving on the wrong side of the road on A113 Northbound between 9 A117 and 6 Altglienicker Chaussee. Drive carefully.', 'Road closed on A24 Eastbound between 24 Chaussee and 25 B273. Drive with extreme caution.', 'Maintenance work on A10 Berliner Ring Anticlockwise between 33 B96 HauptstraÃ\\x9fe and 31 E26. Drive carefully.', 'Road closed due to recovery work on A115 Southbound between A115 and 6 L40.', 'Vehicle driving on the wrong side of the road on B96 Kirchhainer Damm Both ways between A10 Berliner Ring and Im Domstift.', 'Stalled vehicle on B5 Hamburger Chaussee Eastbound between DÃ¶beritzer Weg and L20 Seeburger Chaussee. Danger. In the left lane. Drive with extreme caution.', 'Vehicle driving on the wrong side of the road on A13 Both ways at 3a L30 Schenkendorfer Chaussee.', 'Object in the road and debris on road on A10 Berliner Ring Anticlockwise between 33 B96 HauptstraÃ\\x9fe and 31 E26. Danger. In the left lane. Drive carefully.', 'Vehicle driving on the wrong side of the road on A10 Berliner Ring Both ways between 1 A11 and 35 A114.', 'Vehicle driving on the wrong side of the road on A113 Both ways between 7 B96a Am Seegraben and 8 SchÃ¶nefelder Allee.', 'Vehicle driving on the wrong side of the road on A113 Both ways between 4 StubenrauchstraÃ\\x9fe and 6 Altglienicker Chaussee.', 'Vehicle driving on the wrong side of the road on A115 Both ways between A100 and 4 B1 Potsdamer Chaussee.', 'Vehicle driving on the wrong side of the road on A111 Both ways between 3 Schulzendorfer StraÃ\\x9fe and 3,4,5 A100.', 'Vehicle driving on the wrong side of the road on B96 Both ways between L191 and A10 Berliner Ring.', 'Vehicle driving on the wrong side of the road on A115 Both ways between 8 L78 and 9 A10 Berliner Ring.', 'Vehicle driving on the wrong side of the road on A103 Both ways between 5 B1 and 1 B1 Sachsendamm.', 'Road closed on L794 Neubeerener StraÃ\\x9fe Southbound between L761 Ruhlsdorfer StraÃ\\x9fe and L40. Local drivers are recommended to avoid the area.', 'Animals on road and stalled vehicle on A10 Berliner Ring Anticlockwise between 5 and 4 B5 B1. Danger. Drive carefully.', 'Vehicle driving on the wrong side of the road on A10 Berliner Ring Both ways between 9 Segelfliegerdamm and 8 E30.', 'Vehicle driving on the wrong side of the road on A117 Southbound between 2 Berliner Chaussee and 3 A113. Drive carefully.', 'Lane closed on A113 Northbound at 1,26 A100. Due to sheer weight of traffic.', 'Vehicle driving on the wrong side of the road on A117 Both ways between 1 B96a and 2 Berliner Chaussee.', 'Vehicle driving on the wrong side of the road on A10 Berliner Ring Anticlockwise between 8 E30 and 7 L38. Drive with extreme caution.', 'Vehicle driving on the wrong side of the road on A100 Both ways between 26 A113 and 21 OberlandstraÃ\\x9fe.', 'Vehicle driving on the wrong side of the road on A10 Berliner Ring Both ways between 29 A24 Berliner Ring and 28 L201.', 'Vehicle driving on the wrong side of the road on B96 Northbound in Wilhelmsthal. Drive carefully.', 'Lane closed due to stalled vehicle on A111 Northbound near 8 Tunnel Flughafen Tegel.', 'Vehicle driving on the wrong side of the road on A117 Southbound between 1 B96a and 2 Berliner Chaussee. Drive with extreme caution.', 'Road closed due to stalled vehicle on B96 Southbound near Tiergartentunnel.', 'Road closed and ramps closed due to recovery work on A10 Berliner Ring Clockwise between 13 DorfstraÃ\\x9fe and 14 B101. Local drivers are recommended to avoid the area.', 'Stationary traffic and roadway reduced from  lanes to one lane due to recovery work on A10 Berliner Ring Clockwise between 12 B96 and 13 DorfstraÃ\\x9fe. Expected. Drive with extreme caution.', 'Road blocked due to rolled over vehicle on B5 Westbound between A10 Berliner Ring and Zeestower StraÃ\\x9fe. Danger.', 'Vehicle driving on the wrong side of the road on A11 Both ways between 17 A10 Berliner Ring and 16 L200 Schwanebecker Chaussee.', 'Lane closed due to maintenance work on A100 Eastbound at 19 SchÃ¶neberger StraÃ\\x9fe. Oil on road.', 'One in the road and stalled truck on A10 Berliner Ring Anticlockwise between 11 A13 and 10 B179 Berliner StraÃ\\x9fe. Danger. On the shoulder.', 'Lane blocked due to object in the road on A10 Berliner Ring Anticlockwise between 19 A9 and 18 K6907. Danger. In the middle lane. Drive with extreme caution.', 'Lane blocked due to stalled vehicle on A10 Berliner Ring Clockwise between 28 L201 and 29 A24 Berliner Ring. Danger. In the right lane. Drive with extreme caution.', 'Vehicle driving on the wrong side of the road on B96 Kirchhainer Damm Both ways between B96a WaÃ\\x9fmannsdorfer Chaussee and Im Domstift.', 'Vehicle driving on the wrong side of the road on A100 Both ways between 12 HalenseestraÃ\\x9fe and 14.', 'Stalled vehicle on A13 Northbound between 2 L40 ChausseestraÃ\\x9fe and 1 E55. Drive carefully.', 'Unlit vehicles on road on A115 Southbound between 8 L78 and 9 A10 Berliner Ring. Drive with extreme caution.', 'Vehicle driving on the wrong side of the road on A100 Both ways between 4 A111 and 20 B96 Tempelhofer Damm.', 'Vehicle driving on the wrong side of the road on A113 Both ways between 1,26 A100 and 6 Altglienicker Chaussee.', 'Shoulder closed due to recovery work, fog and visibility reduced on A11 Southbound between 15 L304 Wandlitzer Chaussee and 16 L200 Schwanebecker Chaussee. Danger. Drive with extreme caution.', 'Vehicle driving on the wrong side of the road on A10 Berliner Ring Anticlockwise between 6 L38 FangschleusenstraÃ\\x9fe and 5. Drive with extreme caution.', 'Vehicle driving on the wrong side of the road on A10 Berliner Ring Anticlockwise between 6 L38 FangschleusenstraÃ\\x9fe and 5.', 'Maintenance work on A10 Berliner Ring Clockwise between 34 L21 Liebenwalder StraÃ\\x9fe and 35 A114. Approach with care.', 'Object in the road and stalled truck on A11 Southbound between 16 L200 Schwanebecker Chaussee and 17 A10 Berliner Ring. Danger. Drive with extreme caution.', 'Vehicle driving on the wrong side of the road on B96a Am Seegraben Both ways between Waltersdorfer Chaussee and A113.', 'Vehicle driving on the wrong side of the road on A113 Both ways between A100 and 1,26 A100.', 'Vehicle driving on the wrong side of the road on A100 Both ways between 22 and 23 Britzer Damm.', 'Vehicle driving on the wrong side of the road on A13 Both ways between 3b B246 and 2 L40 ChausseestraÃ\\x9fe.', 'Vehicle driving on the wrong side of the road on A113 Both ways between 9 A117 and 8 SchÃ¶nefelder Allee.', 'Lane closed due to maintenance work on A111 Northbound between 5 Holzhauser StraÃ\\x9fe and 4 Hermsdorfer Damm.', 'Object in the road on A115 Southbound between 8 L78 Potsdamer StraÃ\\x9fe and 9 A10 Berliner Ring. Danger. In the right lane. Drive with extreme caution.', 'Vehicle driving on the wrong side of the road on B101 Southbound between A10 Berliner Ring and L795 Thyrower DorfstraÃ\\x9fe. Drive with extreme caution. Overtake with care.', 'Vehicle driving on the wrong side of the road on A10 Berliner Ring Both ways between 12 B96 and 13 DorfstraÃ\\x9fe.', 'Vehicle driving on the wrong side of the road on A113 Both ways between A13 and 3,10 E55.', 'Vehicle driving on the wrong side of the road on A113 Both ways between 1,26 A100 and 3,10 E55.', 'Object in the road on A24 Eastbound between 23 L16 and 24 Berliner Allee. Danger. Drive with extreme caution. On the shoulder.', 'Vehicle driving on the wrong side of the road on B5 B273 Both ways between Berliner StraÃ\\x9fe and B273.', 'Vehicle driving on the wrong side of the road on A100 Both ways between 26 A113 and 22.', 'Ramps closed on A113 Westbound at 1,26 A100. Due to sheer weight of traffic.', 'Lane closed due to maintenance work on A100 Eastbound between 20 B96 Tempelhofer Damm and 22.', 'Vehicle driving on the wrong side of the road on A10 Berliner Ring Both ways between 26 B5 and 22 B1 An der Autobahn.', 'Vehicle driving on the wrong side of the road on L40 Potsdamer Damm Both ways between L77 Stahnsdorfer Damm and L792 Blankenfelder DorfstraÃ\\x9fe.', 'Vehicle driving on the wrong side of the road on B96 Northbound between B96 and B273 Germendorfer Allee. Drive with extreme caution.', 'Vehicle driving on the wrong side of the road on A114 Both ways between 1 A10 Berliner Ring and 2 B109 SchÃ¶nerlinder StraÃ\\x9fe.', 'Stalled vehicle on A10 Berliner Ring Clockwise between 27 Brieselanger StraÃ\\x9fe and 28 L201. Drive with extreme caution. Danger. In the right lane.', 'Vehicle driving on the wrong side of the road on B1 Berliner StraÃ\\x9fe Both ways between L40 NuthestraÃ\\x9fe and BehlertstraÃ\\x9fe.', 'Vehicle driving on the wrong side of the road on A100 Both ways at 19 Sachsendamm.', 'Vehicle driving on the wrong side of the road on L40 Westbound between L77 Stahnsdorfer Damm and A115.', 'Road closed due to maintenance work and mud on road on A111 Northbound near 8 Tunnel Flughafen Tegel.', 'Object in the road and stalled truck on A10 Berliner Ring Anticlockwise between 17 B2 Potsdamer StraÃ\\x9fe and 16 E51. Danger. Drive with extreme caution. On the shoulder. Drive carefully.', 'Vehicle driving on the wrong side of the road on A10 Berliner Ring Both ways between 8 E30 and 7 L38.', 'Lane closed due to people on the road on A10 Berliner Ring Clockwise between 18 K6907 and 19 A9. Emergency vehicles. Drive with extreme caution.', 'Vehicle driving on the wrong side of the road on A100 Both ways between 26 A113 and 2 SeestraÃ\\x9fe.', 'Vehicle driving on the wrong side of the road on A113 Northbound between 3,10 E55 and 8 SchÃ¶nefelder Allee. Drive with extreme caution.', 'Vehicle driving on the wrong side of the road on A111 Northbound in Stolpe-SÃ¼d.', 'Vehicle driving on the wrong side of the road on A113 Both ways between 1,26 A100 and 3,10 E55.', 'Vehicle driving on the wrong side of the road on B96a Am Seegraben Both ways between B96 and Waltersdorfer Chaussee.', 'Vehicle driving on the wrong side of the road on A10 Berliner Ring Both ways between 1 A11 and 8 E30.', 'Vehicle driving on the wrong side of the road on A113 Both ways between 3,10 E55 and 9 A117.', 'Vehicle driving on the wrong side of the road on B96 Both ways between A10 Berliner Ring and K6163.', 'Intermittent lane closures due to recovery work on A10 Berliner Ring Clockwise between 35 A114 and 1 A11. Danger.', 'One stalled vehicle on A115 Southbound between 5 Stolper Weg and 6 L40. Danger. In the left lane. Drive with extreme caution.', 'Vehicle driving on the wrong side of the road on A10 Berliner Ring Anticlockwise between Am Fichtenplan and 11 E55.', 'Vehicle driving on the wrong side of the road on B96 Southbound between B96a WaÃ\\x9fmannsdorfer Chaussee and A10 Berliner Ring.', 'Stalled vehicle on L40 Eastbound between Neuendorfer StraÃ\\x9fe and A115. Danger. Drive with extreme caution.']\n"
     ]
    }
   ],
   "source": [
    "# Filter to include only accidents\n",
    "if filter_type==\"nolan\":\n",
    "    incid = incid[incid[\"reason2\"]]\n",
    "else:\n",
    "    incid = incid[incid[\"reason2\"]]\n",
    "    print(incid[~((incid['Description'].str.contains('[Aa]ccident',na=False))|\n",
    "              (incid['Event.Text'].str.contains('[Aa]ccident',na=False)))][\"Description\"].tolist())\n",
    "    incid = incid[(incid['Description'].str.contains('[Aa]ccident',na=False))|\n",
    "              (incid['Event.Text'].str.contains('[Aa]ccident',na=False))]   "
   ]
  },
  {
   "cell_type": "code",
   "execution_count": 79,
   "metadata": {},
   "outputs": [
    {
     "data": {
      "text/plain": [
       "3224"
      ]
     },
     "execution_count": 79,
     "metadata": {},
     "output_type": "execute_result"
    }
   ],
   "source": [
    "len(incid)"
   ]
  },
  {
   "cell_type": "code",
   "execution_count": 80,
   "metadata": {
    "collapsed": true
   },
   "outputs": [],
   "source": [
    "# Only keep Accidents within berlin_uc\n",
    "incid = gpd.GeoDataFrame(incid, geometry=gpd.points_from_xy(incid.lon, incid.lat)).set_crs(4326)    \n",
    "\n",
    "berlin_uc = gpd.read_file(\"data/geodata/GHS/GHS_STAT_UCDB2015MT_GLOBE_R2019A_V1_2.gpkg\")\n",
    "berlin_uc = berlin_uc[berlin_uc.UC_NM_MN==\"Berlin\"][[\"UC_NM_MN\",\"geometry\"]]\n",
    "\n",
    "incid = gpd.sjoin(incid, berlin_uc, how=\"left\", op=\"intersects\")\n",
    "incid = incid[incid.UC_NM_MN==\"Berlin\"].drop(columns=[\"UC_NM_MN\", \"index_right\"])"
   ]
  },
  {
   "cell_type": "code",
   "execution_count": 81,
   "metadata": {},
   "outputs": [
    {
     "data": {
      "text/plain": [
       "1176"
      ]
     },
     "execution_count": 81,
     "metadata": {},
     "output_type": "execute_result"
    }
   ],
   "source": [
    "len(incid)"
   ]
  },
  {
   "cell_type": "code",
   "execution_count": 83,
   "metadata": {
    "collapsed": true
   },
   "outputs": [],
   "source": [
    "tf = incid[\"Latest.End.Time.local.\"].apply(lambda x: x.split(\"+\")[1][1]) \n",
    "tf = (tf == '2')\n",
    "\n",
    "# Convert timestamp to datetime objects\n",
    "incid[\"start_timestamp_CET\"] = pd.to_datetime(\n",
    "    incid[\"Earliest.Start.Time.local.\"].apply(lambda x: x.split(\"+\")[0]),\n",
    "    format='%Y-%m-%dT%H:%M:%S'\n",
    ").dt.tz_localize('CET') \n",
    "incid[\"end_timestamp_CET\"] = pd.to_datetime(\n",
    "    incid[\"Latest.End.Time.local.\"].apply(lambda x: x.split(\"+\")[0]),\n",
    "    format='%Y-%m-%dT%H:%M:%S'\n",
    ").dt.tz_localize('CET', ambiguous=tf) # ambiguous parameter for when the\n",
    "\n",
    "# Filter dataframe to only include peak hours during weekdays\n",
    "incid = incid[(incid.start_timestamp_CET.dt.weekday < 5) | (incid.end_timestamp_CET.dt.weekday < 5) ] # 5 = Saturday, 6 = Sunday\n",
    "incid = incid[((incid.start_timestamp_CET.dt.hour >= 6) & (incid.start_timestamp_CET.dt.hour < 10)) |\n",
    "          ((incid.start_timestamp_CET.dt.hour >= 14) & (incid.start_timestamp_CET.dt.hour < 20)) |\n",
    "          ((incid.end_timestamp_CET.dt.hour >= 6) & (incid.end_timestamp_CET.dt.hour < 10)) |\n",
    "          ((incid.end_timestamp_CET.dt.hour >= 14) & (incid.end_timestamp_CET.dt.hour < 20))]"
   ]
  },
  {
   "cell_type": "code",
   "execution_count": 84,
   "metadata": {},
   "outputs": [
    {
     "data": {
      "text/plain": [
       "792"
      ]
     },
     "execution_count": 84,
     "metadata": {},
     "output_type": "execute_result"
    }
   ],
   "source": [
    "len(incid)"
   ]
  },
  {
   "cell_type": "code",
   "execution_count": 37,
   "metadata": {},
   "outputs": [
    {
     "data": {
      "text/html": [
       "<div>\n",
       "<style scoped>\n",
       "    .dataframe tbody tr th:only-of-type {\n",
       "        vertical-align: middle;\n",
       "    }\n",
       "\n",
       "    .dataframe tbody tr th {\n",
       "        vertical-align: top;\n",
       "    }\n",
       "\n",
       "    .dataframe thead th {\n",
       "        text-align: right;\n",
       "    }\n",
       "</style>\n",
       "<table border=\"1\" class=\"dataframe\">\n",
       "  <thead>\n",
       "    <tr style=\"text-align: right;\">\n",
       "      <th></th>\n",
       "      <th>Incident.Id</th>\n",
       "      <th>severity</th>\n",
       "      <th>Road.Closure</th>\n",
       "      <th>Category.Ids</th>\n",
       "      <th>Description</th>\n",
       "      <th>Planned</th>\n",
       "      <th>Earliest.Start.Time.local.</th>\n",
       "      <th>Latest.End.Time.local.</th>\n",
       "      <th>Direction</th>\n",
       "      <th>Event.Text</th>\n",
       "      <th>...</th>\n",
       "      <th>highway</th>\n",
       "      <th>start</th>\n",
       "      <th>end</th>\n",
       "      <th>startdate</th>\n",
       "      <th>enddate</th>\n",
       "      <th>startbezirk</th>\n",
       "      <th>startbezkey</th>\n",
       "      <th>start_timestamp_CET</th>\n",
       "      <th>end_timestamp_CET</th>\n",
       "      <th>geometry</th>\n",
       "    </tr>\n",
       "  </thead>\n",
       "  <tbody>\n",
       "    <tr>\n",
       "      <th>98</th>\n",
       "      <td>289aa381-259c-47a9-a03d-6dcc048100f8</td>\n",
       "      <td>3</td>\n",
       "      <td>True</td>\n",
       "      <td>4-Incident</td>\n",
       "      <td>Road closed due to accident on Mariendorfer We...</td>\n",
       "      <td>False</td>\n",
       "      <td>2017-01-02T13:56:30+01:00</td>\n",
       "      <td>2017-01-02T17:56:30+01:00</td>\n",
       "      <td>Both ways</td>\n",
       "      <td>Road closed, accident</td>\n",
       "      <td>...</td>\n",
       "      <td>False</td>\n",
       "      <td>2017-01-02T13:56:30</td>\n",
       "      <td>2017-01-02T17:56:30</td>\n",
       "      <td>2017-01-02 13:56:30</td>\n",
       "      <td>2017-01-02 17:56:30</td>\n",
       "      <td>Neukölln</td>\n",
       "      <td>8</td>\n",
       "      <td>2017-01-02 13:56:30+01:00</td>\n",
       "      <td>2017-01-02 17:56:30+01:00</td>\n",
       "      <td>POINT (13.43291 52.46470)</td>\n",
       "    </tr>\n",
       "    <tr>\n",
       "      <th>104</th>\n",
       "      <td>8183292b-6296-4448-b5f4-fc1a915d2bc1</td>\n",
       "      <td>3</td>\n",
       "      <td>False</td>\n",
       "      <td>4-Incident</td>\n",
       "      <td>Roadway reduced from  lanes to one lane due to...</td>\n",
       "      <td>False</td>\n",
       "      <td>2017-01-02T16:13:39+01:00</td>\n",
       "      <td>2017-01-02T20:13:39+01:00</td>\n",
       "      <td>Both ways</td>\n",
       "      <td>Accident, roadway reduced from  lanes to one lane</td>\n",
       "      <td>...</td>\n",
       "      <td>False</td>\n",
       "      <td>2017-01-02T16:13:39</td>\n",
       "      <td>2017-01-02T20:13:39</td>\n",
       "      <td>2017-01-02 16:13:39</td>\n",
       "      <td>2017-01-02 20:13:39</td>\n",
       "      <td>Spandau</td>\n",
       "      <td>5</td>\n",
       "      <td>2017-01-02 16:13:39+01:00</td>\n",
       "      <td>2017-01-02 20:13:39+01:00</td>\n",
       "      <td>POINT (13.18474 52.51547)</td>\n",
       "    </tr>\n",
       "    <tr>\n",
       "      <th>150</th>\n",
       "      <td>65e2e901-45e4-4b01-bfd5-48517de5c112</td>\n",
       "      <td>4</td>\n",
       "      <td>True</td>\n",
       "      <td>4-Incident</td>\n",
       "      <td>Road closed due to accident on B96 Mehringdamm...</td>\n",
       "      <td>False</td>\n",
       "      <td>2017-01-03T19:50:18+01:00</td>\n",
       "      <td>2017-01-03T23:50:18+01:00</td>\n",
       "      <td>Northbound</td>\n",
       "      <td>Road closed, accident</td>\n",
       "      <td>...</td>\n",
       "      <td>False</td>\n",
       "      <td>2017-01-03T19:50:18</td>\n",
       "      <td>2017-01-03T23:50:18</td>\n",
       "      <td>2017-01-03 19:50:18</td>\n",
       "      <td>2017-01-03 23:50:18</td>\n",
       "      <td>Friedrichshain-Kreuzberg</td>\n",
       "      <td>2</td>\n",
       "      <td>2017-01-03 19:50:18+01:00</td>\n",
       "      <td>2017-01-03 23:50:18+01:00</td>\n",
       "      <td>POINT (13.38767 52.49295)</td>\n",
       "    </tr>\n",
       "    <tr>\n",
       "      <th>164</th>\n",
       "      <td>b2f49ded-01fc-45cb-a0b2-5b1ee4edf91d</td>\n",
       "      <td>4</td>\n",
       "      <td>False</td>\n",
       "      <td>4-Incident</td>\n",
       "      <td>Lane closed due to accident on A111 Northbound...</td>\n",
       "      <td>False</td>\n",
       "      <td>2017-01-04T06:35:45+01:00</td>\n",
       "      <td>2017-01-04T10:35:45+01:00</td>\n",
       "      <td>Northbound</td>\n",
       "      <td>Lane (or Lanes) closed, accident</td>\n",
       "      <td>...</td>\n",
       "      <td>True</td>\n",
       "      <td>2017-01-04T06:35:45</td>\n",
       "      <td>2017-01-04T10:35:45</td>\n",
       "      <td>2017-01-04 06:35:45</td>\n",
       "      <td>2017-01-04 10:35:45</td>\n",
       "      <td>Reinickendorf</td>\n",
       "      <td>12</td>\n",
       "      <td>2017-01-04 06:35:45+01:00</td>\n",
       "      <td>2017-01-04 10:35:45+01:00</td>\n",
       "      <td>POINT (13.31069 52.56524)</td>\n",
       "    </tr>\n",
       "    <tr>\n",
       "      <th>166</th>\n",
       "      <td>694c5548-7f0f-4c6d-94d6-826470765409</td>\n",
       "      <td>4</td>\n",
       "      <td>False</td>\n",
       "      <td>4-Incident</td>\n",
       "      <td>Lane closed due to accident on A100 Eastbound ...</td>\n",
       "      <td>False</td>\n",
       "      <td>2017-01-04T06:53:15+01:00</td>\n",
       "      <td>2017-01-04T10:53:15+01:00</td>\n",
       "      <td>Eastbound</td>\n",
       "      <td>Lane (or Lanes) closed, accident</td>\n",
       "      <td>...</td>\n",
       "      <td>True</td>\n",
       "      <td>2017-01-04T06:53:15</td>\n",
       "      <td>2017-01-04T10:53:15</td>\n",
       "      <td>2017-01-04 06:53:15</td>\n",
       "      <td>2017-01-04 10:53:15</td>\n",
       "      <td>Tempelhof-Schöneberg</td>\n",
       "      <td>7</td>\n",
       "      <td>2017-01-04 06:53:15+01:00</td>\n",
       "      <td>2017-01-04 10:53:15+01:00</td>\n",
       "      <td>POINT (13.36914 52.47136)</td>\n",
       "    </tr>\n",
       "  </tbody>\n",
       "</table>\n",
       "<p>5 rows × 62 columns</p>\n",
       "</div>"
      ],
      "text/plain": [
       "                              Incident.Id  severity  Road.Closure  \\\n",
       "98   289aa381-259c-47a9-a03d-6dcc048100f8         3          True   \n",
       "104  8183292b-6296-4448-b5f4-fc1a915d2bc1         3         False   \n",
       "150  65e2e901-45e4-4b01-bfd5-48517de5c112         4          True   \n",
       "164  b2f49ded-01fc-45cb-a0b2-5b1ee4edf91d         4         False   \n",
       "166  694c5548-7f0f-4c6d-94d6-826470765409         4         False   \n",
       "\n",
       "    Category.Ids                                        Description  Planned  \\\n",
       "98    4-Incident  Road closed due to accident on Mariendorfer We...    False   \n",
       "104   4-Incident  Roadway reduced from  lanes to one lane due to...    False   \n",
       "150   4-Incident  Road closed due to accident on B96 Mehringdamm...    False   \n",
       "164   4-Incident  Lane closed due to accident on A111 Northbound...    False   \n",
       "166   4-Incident  Lane closed due to accident on A100 Eastbound ...    False   \n",
       "\n",
       "    Earliest.Start.Time.local.     Latest.End.Time.local.   Direction  \\\n",
       "98   2017-01-02T13:56:30+01:00  2017-01-02T17:56:30+01:00   Both ways   \n",
       "104  2017-01-02T16:13:39+01:00  2017-01-02T20:13:39+01:00   Both ways   \n",
       "150  2017-01-03T19:50:18+01:00  2017-01-03T23:50:18+01:00  Northbound   \n",
       "164  2017-01-04T06:35:45+01:00  2017-01-04T10:35:45+01:00  Northbound   \n",
       "166  2017-01-04T06:53:15+01:00  2017-01-04T10:53:15+01:00   Eastbound   \n",
       "\n",
       "                                            Event.Text  ... highway  \\\n",
       "98                               Road closed, accident  ...   False   \n",
       "104  Accident, roadway reduced from  lanes to one lane  ...   False   \n",
       "150                              Road closed, accident  ...   False   \n",
       "164                   Lane (or Lanes) closed, accident  ...    True   \n",
       "166                   Lane (or Lanes) closed, accident  ...    True   \n",
       "\n",
       "                   start                  end            startdate  \\\n",
       "98   2017-01-02T13:56:30  2017-01-02T17:56:30  2017-01-02 13:56:30   \n",
       "104  2017-01-02T16:13:39  2017-01-02T20:13:39  2017-01-02 16:13:39   \n",
       "150  2017-01-03T19:50:18  2017-01-03T23:50:18  2017-01-03 19:50:18   \n",
       "164  2017-01-04T06:35:45  2017-01-04T10:35:45  2017-01-04 06:35:45   \n",
       "166  2017-01-04T06:53:15  2017-01-04T10:53:15  2017-01-04 06:53:15   \n",
       "\n",
       "                 enddate               startbezirk startbezkey  \\\n",
       "98   2017-01-02 17:56:30                  Neukölln           8   \n",
       "104  2017-01-02 20:13:39                   Spandau           5   \n",
       "150  2017-01-03 23:50:18  Friedrichshain-Kreuzberg           2   \n",
       "164  2017-01-04 10:35:45             Reinickendorf          12   \n",
       "166  2017-01-04 10:53:15      Tempelhof-Schöneberg           7   \n",
       "\n",
       "          start_timestamp_CET         end_timestamp_CET  \\\n",
       "98  2017-01-02 13:56:30+01:00 2017-01-02 17:56:30+01:00   \n",
       "104 2017-01-02 16:13:39+01:00 2017-01-02 20:13:39+01:00   \n",
       "150 2017-01-03 19:50:18+01:00 2017-01-03 23:50:18+01:00   \n",
       "164 2017-01-04 06:35:45+01:00 2017-01-04 10:35:45+01:00   \n",
       "166 2017-01-04 06:53:15+01:00 2017-01-04 10:53:15+01:00   \n",
       "\n",
       "                      geometry  \n",
       "98   POINT (13.43291 52.46470)  \n",
       "104  POINT (13.18474 52.51547)  \n",
       "150  POINT (13.38767 52.49295)  \n",
       "164  POINT (13.31069 52.56524)  \n",
       "166  POINT (13.36914 52.47136)  \n",
       "\n",
       "[5 rows x 62 columns]"
      ]
     },
     "execution_count": 37,
     "metadata": {},
     "output_type": "execute_result"
    }
   ],
   "source": [
    "\n",
    "# Nolan's filter accidents by 'reason2', mine by strings in certain variables. Mine is more restrictive\n",
    "filter_type = \"my\" # \"nolan\". \n",
    "\n",
    "# Create a dummy vector to feed into the \"ambiguous\" argument one step below. \n",
    "# It basically stores whether or not something is in summer or winter time.\n",
    "tf = incid[\"Latest.End.Time.local.\"].apply(lambda x: x.split(\"+\")[1][1]) \n",
    "tf = (tf == '2')\n",
    "\n",
    "# Convert timestamp to datetime objects\n",
    "incid[\"start_timestamp_CET\"] = pd.to_datetime(\n",
    "    incid[\"Earliest.Start.Time.local.\"].apply(lambda x: x.split(\"+\")[0]),\n",
    "    format='%Y-%m-%dT%H:%M:%S'\n",
    ").dt.tz_localize('CET') \n",
    "incid[\"end_timestamp_CET\"] = pd.to_datetime(\n",
    "    incid[\"Latest.End.Time.local.\"].apply(lambda x: x.split(\"+\")[0]),\n",
    "    format='%Y-%m-%dT%H:%M:%S'\n",
    ").dt.tz_localize('CET', ambiguous=tf) # ambiguous parameter for when the\n",
    "\n",
    "# Filter dataframe to only include peak hours during weekdays\n",
    "incid = incid[(incid.start_timestamp_CET.dt.weekday < 5) | (incid.end_timestamp_CET.dt.weekday < 5) ] # 5 = Saturday, 6 = Sunday\n",
    "incid = incid[((incid.start_timestamp_CET.dt.hour >= 6) & (incid.start_timestamp_CET.dt.hour < 10)) |\n",
    "          ((incid.start_timestamp_CET.dt.hour >= 14) & (incid.start_timestamp_CET.dt.hour < 20)) |\n",
    "          ((incid.end_timestamp_CET.dt.hour >= 6) & (incid.end_timestamp_CET.dt.hour < 10)) |\n",
    "          ((incid.end_timestamp_CET.dt.hour >= 14) & (incid.end_timestamp_CET.dt.hour < 20))]\n",
    "\n",
    "# Filter to include only accidents\n",
    "if filter_type==\"nolan\":\n",
    "    incid = incid[incid[\"reason2\"]]\n",
    "else:\n",
    "    incid = incid[(incid['Causes'].str.contains('[Aa]ccident', na=False))|\n",
    "              (incid['Description'].str.contains('[Aa]ccident',na=False))|\n",
    "              (incid['Event.Text'].str.contains('[Aa]ccident',na=False))]\n",
    "\n",
    "# Make GDF\n",
    "incid = gpd.GeoDataFrame(incid, geometry=gpd.points_from_xy(incid.lon, incid.lat)).set_crs(4326)    \n",
    "\n",
    "# Only keep Accidents within berlin_uc\n",
    "berlin_uc = gpd.read_file(\"data/geodata/GHS/GHS_STAT_UCDB2015MT_GLOBE_R2019A_V1_2.gpkg\")\n",
    "berlin_uc = berlin_uc[berlin_uc.UC_NM_MN==\"Berlin\"][[\"UC_NM_MN\",\"geometry\"]]\n",
    "\n",
    "incid = gpd.sjoin(incid, berlin_uc, how=\"left\", op=\"intersects\")\n",
    "incid = incid[incid.UC_NM_MN==\"Berlin\"].drop(columns=[\"UC_NM_MN\", \"index_right\"])\n",
    "\n",
    "incid.head()"
   ]
  },
  {
   "cell_type": "code",
   "execution_count": null,
   "metadata": {
    "collapsed": true
   },
   "outputs": [],
   "source": []
  }
 ],
 "metadata": {
  "kernelspec": {
   "display_name": "Python [conda env:ma2]",
   "language": "python",
   "name": "conda-env-ma2-py"
  },
  "language_info": {
   "codemirror_mode": {
    "name": "ipython",
    "version": 3
   },
   "file_extension": ".py",
   "mimetype": "text/x-python",
   "name": "python",
   "nbconvert_exporter": "python",
   "pygments_lexer": "ipython3",
   "version": "3.8.10"
  }
 },
 "nbformat": 4,
 "nbformat_minor": 2
}
