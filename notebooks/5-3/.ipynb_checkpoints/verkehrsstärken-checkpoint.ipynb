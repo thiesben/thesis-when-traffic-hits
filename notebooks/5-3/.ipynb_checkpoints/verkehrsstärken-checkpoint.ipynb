{
 "cells": [
  {
   "cell_type": "code",
   "execution_count": 1,
   "metadata": {
    "collapsed": true
   },
   "outputs": [],
   "source": [
    "import numpy as np\n",
    "import os\n",
    "import pandas as pd\n",
    "import warnings\n",
    "from pandas.core.common import SettingWithCopyWarning\n",
    "\n",
    "warnings.simplefilter(action=\"ignore\", category=SettingWithCopyWarning)\n",
    "warnings.simplefilter(action=\"ignore\", category=FutureWarning)\n",
    "from os.path import join\n",
    "from config import rpath\n",
    "os.chdir(rpath)"
   ]
  },
  {
   "cell_type": "code",
   "execution_count": 2,
   "metadata": {
    "collapsed": true
   },
   "outputs": [],
   "source": [
    "# Get the file names\n",
    "path = \"data/berlin_verkehrsstaerken\"\n",
    "files_19 = [join(path, file) for file in os.listdir(path) if file.startswith(\"det_val_hr_2019\")]\n",
    "files_17 = [join(path, file) for file in os.listdir(path) if file.startswith(\"det_val_hr_2017\")]\n",
    "files_20 = [join(path, file) for file in os.listdir(path) if file.startswith(\"det_val_hr_2020\")]"
   ]
  },
  {
   "cell_type": "code",
   "execution_count": 3,
   "metadata": {
    "collapsed": true
   },
   "outputs": [],
   "source": [
    "# Read the files\n",
    "use_file = 17\n",
    "\n",
    "if use_file == 17:\n",
    "    files = files_17\n",
    "elif use_file == 19:\n",
    "    files = files_19\n",
    "\n",
    "vs_raw = pd.read_csv(files[0], sep=\";\")\n",
    "vs20_raw = pd.read_csv(files_20[0], sep=\";\")\n",
    "\n",
    "for i in range(1, len(files_20)):\n",
    "    try:\n",
    "        vs_raw = vs_raw.append(pd.read_csv(files[i], sep=\";\"))\n",
    "    except Exception:\n",
    "        pass\n",
    "    vs20_raw = vs20_raw.append(pd.read_csv(files_20[i], sep=\";\"))"
   ]
  },
  {
   "cell_type": "code",
   "execution_count": 4,
   "metadata": {},
   "outputs": [
    {
     "name": "stdout",
     "output_type": "stream",
     "text": [
      "Number of unique traffic detectors: 529\n"
     ]
    }
   ],
   "source": [
    "print(\"Number of unique traffic detectors:\", \n",
    "      sum([(x in vs20_raw.detid_15.unique()) for x in vs_raw.detid_15.unique()]))"
   ]
  },
  {
   "cell_type": "code",
   "execution_count": 6,
   "metadata": {},
   "outputs": [
    {
     "name": "stdout",
     "output_type": "stream",
     "text": [
      "Percentage of non-qualitative measurements: 0.019208181558547133\n",
      "Traffic Volume Percentage of 2020 relative to 2017=100%: 0.8729149547247531\n"
     ]
    }
   ],
   "source": [
    "# Filter down to relevant time windows and weekdays only\n",
    "vs = vs_raw[((vs_raw.stunde >= 6) & (vs_raw.stunde < 10)) | ((vs_raw.stunde >= 14) & (vs_raw.stunde < 20))]\n",
    "vs20 = vs20_raw[((vs20_raw.stunde >= 6) & (vs20_raw.stunde < 10)) | ((vs20_raw.stunde >= 14) & (vs20_raw.stunde < 20))]\n",
    "\n",
    "if use_file == 17:\n",
    "    vs[\"day\"] = pd.to_datetime(vs.tag.str.replace('.00', '.2017', regex=False), format=\"%d.%m.%Y\")\n",
    "    relevant_day = vs[vs.day == \"2017-04-01\"].day.dt.dayofyear.unique()[0]\n",
    "elif use_file == 19:\n",
    "    vs[\"day\"] = pd.to_datetime(vs.tag.str.replace('.00', '.2019', regex=False), format=\"%d.%m.%Y\")\n",
    "    relevant_day = vs[vs.day == \"2019-03-16\"].day.dt.dayofyear.unique()[0]\n",
    "\n",
    "vs20[\"day\"] = pd.to_datetime(vs20.tag.str.replace('.00', '.2020', regex=False), format=\"%d.%m.%Y\")\n",
    "\n",
    "vs[\"yearday\"] = vs[\"day\"].dt.dayofyear\n",
    "vs20[\"yearday\"] =  vs20[\"day\"].dt.dayofyear\n",
    "\n",
    "vs = vs[vs.day.dt.dayofweek < 5]\n",
    "vs20 = vs20[vs20.day.dt.dayofweek < 5]\n",
    "\n",
    "# Filter down to only include data from after and including April 1st\n",
    "vs_small = vs[vs.day.dt.dayofyear >= relevant_day]\n",
    "vs20_small = vs20[vs20.day.dt.dayofyear >= relevant_day+1] # Because of leap year\n",
    "\n",
    "# Filter to include only good quality data\n",
    "print(\"Percentage of non-qualitative measurements:\", \n",
    "      (len(vs_small[vs_small.qualitaet != 1]) + len(vs20_small[vs20_small.qualitaet != 1]))/(len(vs_small)+len(vs20_small)))\n",
    "vs_small = vs_small[vs_small.qualitaet == 1]\n",
    "vs20_small = vs20_small[vs20_small.qualitaet == 1]\n",
    "\n",
    "# Aggregate data from previous year on the detector level\n",
    "vs_grouped = vs_small[[\"detid_15\", \"q_kfz_det_hr\"]].groupby([\"detid_15\"]).agg(\"mean\").reset_index()\n",
    "vs_grouped.rename(columns={\"q_kfz_det_hr\": \"mean_count\"}, inplace=True)\n",
    "vs20_grouped = vs20_small[[\"detid_15\", \"q_kfz_det_hr\"]].groupby([\"detid_15\"]).agg(\"mean\").reset_index()\n",
    "\n",
    "vs_info = vs_grouped.merge(vs20_grouped, on=[\"detid_15\"]).reset_index()\n",
    "\n",
    "print(\"Traffic Volume Percentage of 2020 relative to 20\"+str(use_file)+\"=100%:\",\n",
    "      vs_info.q_kfz_det_hr.sum()/vs_info.mean_count.sum())"
   ]
  },
  {
   "cell_type": "code",
   "execution_count": 7,
   "metadata": {},
   "outputs": [
    {
     "name": "stdout",
     "output_type": "stream",
     "text": [
      "Percentage of non-qualitative measurements: 0.0\n"
     ]
    }
   ],
   "source": [
    "# Filter down to relevant time windows and weekdays only\n",
    "vs = vs_raw[((vs_raw.stunde >= 6) & (vs_raw.stunde < 10)) | ((vs_raw.stunde >= 14) & (vs_raw.stunde < 20))]\n",
    "vs20 = vs20_raw[((vs20_raw.stunde >= 6) & (vs20_raw.stunde < 10)) | ((vs20_raw.stunde >= 14) & (vs20_raw.stunde < 20))]\n",
    "\n",
    "if use_file == 17:\n",
    "    vs[\"day\"] = pd.to_datetime(vs.tag.str.replace('.00', '.2017', regex=False), format=\"%d.%m.%Y\")\n",
    "    relevant_day = vs[vs.day == \"2017-04-01\"].day.dt.dayofyear.unique()[0]\n",
    "elif use_file == 19:\n",
    "    vs[\"day\"] = pd.to_datetime(vs.tag.str.replace('.00', '.2019', regex=False), format=\"%d.%m.%Y\")\n",
    "    relevant_day = vs[vs.day == \"2019-03-16\"].day.dt.dayofyear.unique()[0]\n",
    "\n",
    "vs20[\"day\"] = pd.to_datetime(vs20.tag.str.replace('.00', '.2020', regex=False), format=\"%d.%m.%Y\")\n",
    "\n",
    "vs[\"yearday\"] = vs[\"day\"].dt.dayofyear\n",
    "vs20[\"yearday\"] =  vs20[\"day\"].dt.dayofyear\n",
    "\n",
    "vs = vs[vs.day.dt.dayofweek < 5]\n",
    "\n",
    "# Filter to include only good quality data\n",
    "print(\"Percentage of non-qualitative measurements:\", \n",
    "      (len(vs_small[vs_small.qualitaet != 1]) + len(vs20_small[vs20_small.qualitaet != 1]))/(len(vs_small)+len(vs20_small)))\n",
    "vs_small = vs_small[vs_small.qualitaet == 1]\n",
    "vs20_small = vs20[vs20.qualitaet == 1]\n",
    "\n",
    "# Aggregate data from previous year on the detector level\n",
    "vs_grouped = vs_small[[\"detid_15\", \"q_kfz_det_hr\"]].groupby([\"detid_15\"]).agg(\"mean\").reset_index()\n",
    "vs_grouped.rename(columns={\"q_kfz_det_hr\": \"mean_count\"}, inplace=True)\n",
    "\n",
    "# Aggregate data from 2020 on the daily level\n",
    "vs20_grouped = vs20_small[[\"detid_15\", \"day\", \"q_kfz_det_hr\"]].groupby([\"detid_15\",\"day\"]).agg(\"mean\").reset_index()\n",
    "\n",
    "vs_plot = vs20_grouped.merge(vs_grouped, on=[\"detid_15\"], how=\"left\").reset_index()\n",
    "\n",
    "vs_plot[\"frac\"] = vs_plot.q_kfz_det_hr / vs_plot.mean_count\n",
    "vs_plot = vs_plot.groupby(\"day\").agg(\"mean\").reset_index()[[\"day\", \"frac\"]]"
   ]
  },
  {
   "cell_type": "code",
   "execution_count": 8,
   "metadata": {},
   "outputs": [
    {
     "data": {
      "image/png": "[encoded data removed]",
      "text/plain": [
       "<Figure size 1080x576 with 1 Axes>"
      ]
     },
     "metadata": {
      "needs_background": "light"
     },
     "output_type": "display_data"
    }
   ],
   "source": [
    "import matplotlib.pyplot as plt\n",
    "\n",
    "fig, ax = plt.subplots(1,1, figsize=(15,8))\n",
    "ax.bar(vs_plot.day, vs_plot.frac, color=\"#30a3c9\", alpha=0.9)\n",
    "ax.plot(vs_plot.day, np.repeat(1, len(vs_plot)), \"k-.\", label=\"2017 average\")\n",
    "ax.set_xlabel(\"Date\", fontsize=12)\n",
    "ax.set_ylabel(\"Percentage of 2020 average\", fontsize=12)\n",
    "plt.legend(fontsize=12)\n",
    "plt.show()"
   ]
  }
 ],
 "metadata": {
  "kernelspec": {
   "display_name": "Python [conda env:ma2]",
   "language": "python",
   "name": "conda-env-ma2-py"
  },
  "language_info": {
   "codemirror_mode": {
    "name": "ipython",
    "version": 3
   },
   "file_extension": ".py",
   "mimetype": "text/x-python",
   "name": "python",
   "nbconvert_exporter": "python",
   "pygments_lexer": "ipython3",
   "version": "3.8.10"
  }
 },
 "nbformat": 4,
 "nbformat_minor": 2
}
